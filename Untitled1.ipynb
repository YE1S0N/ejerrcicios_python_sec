{
  "nbformat": 4,
  "nbformat_minor": 0,
  "metadata": {
    "colab": {
      "provenance": [],
      "authorship_tag": "ABX9TyNdXjti0/X18iBQxS1oFMdq",
      "include_colab_link": true
    },
    "kernelspec": {
      "name": "python3",
      "display_name": "Python 3"
    },
    "language_info": {
      "name": "python"
    }
  },
  "cells": [
    {
      "cell_type": "markdown",
      "metadata": {
        "id": "view-in-github",
        "colab_type": "text"
      },
      "source": [
        "<a href=\"https://colab.research.google.com/github/YE1S0N/ejerrcicios_python_sec/blob/main/Untitled1.ipynb\" target=\"_parent\"><img src=\"https://colab.research.google.com/assets/colab-badge.svg\" alt=\"Open In Colab\"/></a>"
      ]
    },
    {
      "cell_type": "markdown",
      "source": [],
      "metadata": {
        "id": "FAxUOePdMbGJ"
      }
    },
    {
      "cell_type": "markdown",
      "source": [
        "# introduccion a python\n",
        "## curso de programacion y algoritmia UPB 202320\n",
        "- Nombre: Yeison De Leon\n",
        "- ID: 000491649\n",
        "- Email: yeison.deupb.edu.co\n",
        "\n",
        " esta es la expresion de la lineade la recta\n",
        " $$y: mx + b$$\n",
        "\n",
        " donde $x$ es la posicion\n",
        "\n"
      ],
      "metadata": {
        "id": "_AmLGLP9Ndd-"
      }
    },
    {
      "cell_type": "code",
      "source": [],
      "metadata": {
        "id": "Jbn1UCpROVBE"
      },
      "execution_count": null,
      "outputs": []
    },
    {
      "cell_type": "code",
      "source": [
        "# comentarios\n",
        "\n",
        "name = 'yeison'\n",
        "print(\"hello,\",name)"
      ],
      "metadata": {
        "colab": {
          "base_uri": "https://localhost:8080/"
        },
        "id": "NqBY9cTxPTC0",
        "outputId": "0e5f55af-3203-4844-9255-b4ebc47224aa"
      },
      "execution_count": null,
      "outputs": [
        {
          "output_type": "stream",
          "name": "stdout",
          "text": [
            "hello, yeison\n"
          ]
        }
      ]
    },
    {
      "cell_type": "code",
      "source": [
        "# comentarios\n",
        "\n",
        "firstname = 'Yeison'\n",
        "lastname = 'De Leon,'\n",
        "age = '18 años'\n",
        "food = 'el arroz'\n",
        "\n",
        "print(\"Mi nombre es\",firstname,lastname,\"tengo\",age, \"y me gusta\",food)"
      ],
      "metadata": {
        "colab": {
          "base_uri": "https://localhost:8080/"
        },
        "id": "TddkeCY7QZjh",
        "outputId": "8448514e-91a9-4353-d6d3-9201b859d691"
      },
      "execution_count": null,
      "outputs": [
        {
          "output_type": "stream",
          "name": "stdout",
          "text": [
            "Mi nombre es Yeison De Leon, tengo 18 años y me gusta el arroz\n"
          ]
        }
      ]
    },
    {
      "cell_type": "code",
      "source": [
        "for i in range(1, 10):\n",
        "  print(i)"
      ],
      "metadata": {
        "id": "xI8TBAH1TjXc",
        "outputId": "e950e908-40b0-4325-b364-cc28be253ed8",
        "colab": {
          "base_uri": "https://localhost:8080/"
        }
      },
      "execution_count": 3,
      "outputs": [
        {
          "output_type": "stream",
          "name": "stdout",
          "text": [
            "1\n",
            "2\n",
            "3\n",
            "4\n",
            "5\n",
            "6\n",
            "7\n",
            "8\n",
            "9\n"
          ]
        }
      ]
    },
    {
      "cell_type": "code",
      "source": [
        "for i in range(1, 20, 2):\n",
        "  print(i)"
      ],
      "metadata": {
        "id": "up5pJaDVZQQ6",
        "outputId": "710d4f91-1522-4133-8895-76fd0c7f315d",
        "colab": {
          "base_uri": "https://localhost:8080/"
        }
      },
      "execution_count": 7,
      "outputs": [
        {
          "output_type": "stream",
          "name": "stdout",
          "text": [
            "1\n",
            "3\n",
            "5\n",
            "7\n",
            "9\n",
            "11\n",
            "13\n",
            "15\n",
            "17\n",
            "19\n"
          ]
        }
      ]
    },
    {
      "cell_type": "code",
      "source": [
        "for i in range(10, 1, -1):\n",
        "  print(i)"
      ],
      "metadata": {
        "id": "uQP2qHZbZ7cs",
        "outputId": "cda0b629-0ce7-4826-c827-deedee72342c",
        "colab": {
          "base_uri": "https://localhost:8080/"
        }
      },
      "execution_count": 9,
      "outputs": [
        {
          "output_type": "stream",
          "name": "stdout",
          "text": [
            "10\n",
            "9\n",
            "8\n",
            "7\n",
            "6\n",
            "5\n",
            "4\n",
            "3\n",
            "2\n"
          ]
        }
      ]
    },
    {
      "cell_type": "code",
      "source": [
        "suma = 0\n",
        "for i in range(1, 101):\n",
        "  print(i)\n",
        "  suma += i\n",
        "\n",
        "print(\"suma= \",suma)"
      ],
      "metadata": {
        "id": "c99mHcKYcJ3C",
        "outputId": "02bd2db9-98b5-4c46-c63c-dce9d1d6262e",
        "colab": {
          "base_uri": "https://localhost:8080/"
        }
      },
      "execution_count": 18,
      "outputs": [
        {
          "output_type": "stream",
          "name": "stdout",
          "text": [
            "1\n",
            "2\n",
            "3\n",
            "4\n",
            "5\n",
            "6\n",
            "7\n",
            "8\n",
            "9\n",
            "10\n",
            "11\n",
            "12\n",
            "13\n",
            "14\n",
            "15\n",
            "16\n",
            "17\n",
            "18\n",
            "19\n",
            "20\n",
            "21\n",
            "22\n",
            "23\n",
            "24\n",
            "25\n",
            "26\n",
            "27\n",
            "28\n",
            "29\n",
            "30\n",
            "31\n",
            "32\n",
            "33\n",
            "34\n",
            "35\n",
            "36\n",
            "37\n",
            "38\n",
            "39\n",
            "40\n",
            "41\n",
            "42\n",
            "43\n",
            "44\n",
            "45\n",
            "46\n",
            "47\n",
            "48\n",
            "49\n",
            "50\n",
            "51\n",
            "52\n",
            "53\n",
            "54\n",
            "55\n",
            "56\n",
            "57\n",
            "58\n",
            "59\n",
            "60\n",
            "61\n",
            "62\n",
            "63\n",
            "64\n",
            "65\n",
            "66\n",
            "67\n",
            "68\n",
            "69\n",
            "70\n",
            "71\n",
            "72\n",
            "73\n",
            "74\n",
            "75\n",
            "76\n",
            "77\n",
            "78\n",
            "79\n",
            "80\n",
            "81\n",
            "82\n",
            "83\n",
            "84\n",
            "85\n",
            "86\n",
            "87\n",
            "88\n",
            "89\n",
            "90\n",
            "91\n",
            "92\n",
            "93\n",
            "94\n",
            "95\n",
            "96\n",
            "97\n",
            "98\n",
            "99\n",
            "100\n",
            "suma=  5050\n"
          ]
        }
      ]
    },
    {
      "cell_type": "code",
      "source": [
        "num = int(input(\"ingrese un numero \"))\n",
        "factorial = 1\n",
        "for i in range(1, (num + 1)):\n",
        "  factorial *= i\n",
        "\n",
        "print(\"el factorial es\", factorial)"
      ],
      "metadata": {
        "id": "LYAUlo5gfvEK",
        "outputId": "a32bf6be-bbcb-4d6c-b5c5-71b6293965ed",
        "colab": {
          "base_uri": "https://localhost:8080/"
        }
      },
      "execution_count": 26,
      "outputs": [
        {
          "output_type": "stream",
          "name": "stdout",
          "text": [
            "ingrese un numero 5\n",
            "el factorial es 120\n"
          ]
        }
      ]
    }
  ]
}