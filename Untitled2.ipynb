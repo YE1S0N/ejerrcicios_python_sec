{
  "nbformat": 4,
  "nbformat_minor": 0,
  "metadata": {
    "colab": {
      "provenance": [],
      "authorship_tag": "ABX9TyMNzMpIK4sJUmAELFEJu3dY",
      "include_colab_link": true
    },
    "kernelspec": {
      "name": "python3",
      "display_name": "Python 3"
    },
    "language_info": {
      "name": "python"
    }
  },
  "cells": [
    {
      "cell_type": "markdown",
      "metadata": {
        "id": "view-in-github",
        "colab_type": "text"
      },
      "source": [
        "<a href=\"https://colab.research.google.com/github/YE1S0N/ejerrcicios_python_sec/blob/main/Untitled2.ipynb\" target=\"_parent\"><img src=\"https://colab.research.google.com/assets/colab-badge.svg\" alt=\"Open In Colab\"/></a>"
      ]
    },
    {
      "cell_type": "code",
      "execution_count": 3,
      "metadata": {
        "id": "scE_mqvTbCLf",
        "outputId": "b035b37c-02be-4258-b9c5-54d0b7338f57",
        "colab": {
          "base_uri": "https://localhost:8080/"
        }
      },
      "outputs": [
        {
          "output_type": "stream",
          "name": "stdout",
          "text": [
            "escriba su nombreyeison\n",
            "cual es tu edad18\n",
            "hola yeison\n",
            "tienes 18 años\n"
          ]
        }
      ],
      "source": [
        "name = input(\"escriba su nombre\")\n",
        "age = input(\"cual es tu edad\")\n",
        "print(\"hola\", name)\n",
        "print(\"tienes\", str(age), \"años\")"
      ]
    },
    {
      "cell_type": "code",
      "source": [
        "##ejercicio 1:\n",
        "print(\"programa para calcular el area de un rectangulo\")\n",
        "b = float(input(\"ingrese la base (m): \"))\n",
        "h = float(input(\"ingrese la altura (m): \"))\n",
        "A = b * h\n",
        "print(\"el area del rectangulo con base\", str(b), \"(m) y altura\" , str(h), \"(m) es\" , str(A), \"m2.\")"
      ],
      "metadata": {
        "id": "lRZlljRUcCwR",
        "outputId": "b95d9108-2cb2-48cf-af6d-d5f22dd370eb",
        "colab": {
          "base_uri": "https://localhost:8080/"
        }
      },
      "execution_count": 4,
      "outputs": [
        {
          "output_type": "stream",
          "name": "stdout",
          "text": [
            "programa para calcular el area de un rectangulo\n",
            "ingrese la base (m): 10\n",
            "ingrese la altura (m): 10\n",
            "el area del rectangulo con base 10.0 (m) y altura 10.0 (m) es 100.0 m2.\n"
          ]
        }
      ]
    },
    {
      "cell_type": "code",
      "source": [
        "print(\"programa para calcular el area de un triangulo\")\n",
        "b = float(input(\"ingrese la base (m): \"))\n",
        "h = float(input(\"ingrese la altura (m): \"))\n",
        "A = b * h / 2\n",
        "print(\"el area del triangulo con base\", str(b), \"(m) y altura\" , str(h), \"(m) es\" , str(A), \"m2.\" )"
      ],
      "metadata": {
        "id": "9_CWo6fAfAH_",
        "outputId": "686a139c-f902-4c76-e6ba-669930ddda15",
        "colab": {
          "base_uri": "https://localhost:8080/"
        }
      },
      "execution_count": 5,
      "outputs": [
        {
          "output_type": "stream",
          "name": "stdout",
          "text": [
            "programa para calcular el area de un triangulo\n",
            "ingrese la base (m): 10\n",
            "ingrese la altura (m): 5\n",
            "el area del triangulo con base 10.0 (m) y altura 5.0 (m) es 25.0 m2.\n"
          ]
        }
      ]
    },
    {
      "cell_type": "code",
      "source": [
        "##ejercicio para calcular el area de un circulo\n",
        "print(\"programa para calcular el area de un circulo\" )\n",
        "r = float(input(\"ingrese el radio (m): \"))\n",
        "A = 3.1415 * r ** 2\n",
        "print(\"el area del circulo con radio\", str(r), \"(m) es\", str(A), \"m2.\" )"
      ],
      "metadata": {
        "id": "i9HRGGk3g5W1",
        "outputId": "1ec53b5e-3c92-4abd-c6e6-ca81f8e565f0",
        "colab": {
          "base_uri": "https://localhost:8080/"
        }
      },
      "execution_count": 8,
      "outputs": [
        {
          "output_type": "stream",
          "name": "stdout",
          "text": [
            "programa para calcular el area de un circulo\n",
            "ingrese el radio (m): 12.5\n",
            "el area del circulo con radio 12.5 (m) es 490.859375 m2.\n"
          ]
        }
      ]
    },
    {
      "cell_type": "code",
      "source": [],
      "metadata": {
        "id": "bl47pZe1hSRK"
      },
      "execution_count": null,
      "outputs": []
    },
    {
      "cell_type": "markdown",
      "source": [
        "## ejercicio 4: voltaje instantaneo\n",
        "clacular y mostrar el voltaje en un instante de tiempo $t$ data su amplitud, frecuencia y angulo de fase:\n",
        "\n",
        "theta = ang * pi / 180\n",
        "\n",
        "omega = 2 * pi * f\n",
        "\n",
        "V = amp * cos(omega * t + theta)\n"
      ],
      "metadata": {
        "id": "x7zY5apkjPE9"
      }
    },
    {
      "cell_type": "code",
      "source": [
        "import math\n",
        "print(\"ejercicio para calcular el voltaje instantaneo\")\n",
        "V = float(input(\"ingrese la amplitud (v): \"))\n",
        "f = float(input(\"ingresela frecuencia (hz): \"))\n",
        "ang = float(input(\"ingrese el angulo de fase (°): \"))\n",
        "\n",
        "t = float(input(\"ingrese el instante de tiempo (s): \"))\n",
        "\n",
        "omega = 2 * math.pi * f\n",
        "theta = ang * math.pi / 180\n",
        "v_t = V * math.cos(omega * t + theta)\n",
        "\n",
        "print(\"Elvoltaje instantaneo para los datos ingresados es: \", str(v_t), \"V.\")\n"
      ],
      "metadata": {
        "id": "Z2l84LWakP-W",
        "outputId": "e0e6e511-f06c-4b0d-dbfa-f567cb9ebd0f",
        "colab": {
          "base_uri": "https://localhost:8080/"
        }
      },
      "execution_count": 14,
      "outputs": [
        {
          "output_type": "stream",
          "name": "stdout",
          "text": [
            "ejercicio para calcular el voltaje instantaneo\n",
            "ingrese la amplitud (v): 10\n",
            "ingresela frecuencia (hz): 60\n",
            "ingrese el angulo de fase (°): 30\n",
            "ingrese el instante de tiempo (s): 15\n",
            "Elvoltaje instantaneo para los datos ingresados es:  8.660254037844124 V.\n"
          ]
        }
      ]
    },
    {
      "cell_type": "code",
      "source": [],
      "metadata": {
        "id": "_quAN9_enPAC"
      },
      "execution_count": null,
      "outputs": []
    }
  ]
}